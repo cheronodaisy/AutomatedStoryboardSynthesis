{
  "nbformat": 4,
  "nbformat_minor": 0,
  "metadata": {
    "colab": {
      "provenance": []
    },
    "kernelspec": {
      "name": "python3",
      "display_name": "Python 3"
    },
    "language_info": {
      "name": "python"
    }
  },
  "cells": [
    {
      "cell_type": "markdown",
      "source": [
        "\n",
        "### Image Composition with Pillow\n"
      ],
      "metadata": {
        "id": "HKFF5kn3GLIg"
      }
    },
    {
      "cell_type": "code",
      "execution_count": 1,
      "metadata": {
        "id": "_fWrAcV9gp02",
        "colab": {
          "base_uri": "https://localhost:8080/"
        },
        "outputId": "9a05e801-1b6d-49f6-9175-e3a49a225125"
      },
      "outputs": [
        {
          "output_type": "stream",
          "name": "stdout",
          "text": [
            "Mounted at /content/drive\n"
          ]
        }
      ],
      "source": [
        "from google.colab import drive\n",
        "drive.mount('/content/drive')"
      ]
    },
    {
      "cell_type": "code",
      "source": [
        "import pandas as pd"
      ],
      "metadata": {
        "id": "7825sACbor3F"
      },
      "execution_count": 2,
      "outputs": []
    },
    {
      "cell_type": "code",
      "source": [
        "import os\n",
        "from PIL import Image\n",
        "\n",
        "def load_assets(asset_dir):\n",
        "    assets = {}\n",
        "    for file_name in os.listdir(asset_dir):\n",
        "        if file_name.endswith(('png', 'jpg', 'jpeg')):\n",
        "            key = os.path.splitext(file_name)[0]\n",
        "            assets[key] = Image.open(os.path.join(asset_dir, file_name)).convert(\"RGBA\")\n",
        "    return assets\n",
        "\n",
        "def compose_frame(base_image, assets, positions):\n",
        "    composite_image = base_image.copy()\n",
        "    for key, pos in positions.items():\n",
        "        if key in assets:\n",
        "            asset = assets[key]\n",
        "            if 'resize' in pos:\n",
        "                asset = asset.resize(pos['resize'])\n",
        "            composite_image.paste(asset, pos['position'], asset)\n",
        "    return composite_image\n",
        "\n",
        "def save_frame(image, output_dir, frame_name):\n",
        "    if not os.path.exists(output_dir):\n",
        "        os.makedirs(output_dir)\n",
        "    image.save(os.path.join(output_dir, f\"{frame_name}.png\"))\n",
        "\n",
        "def create_ad_frames(asset_dirs, output_dir):\n",
        "    for frame_type, asset_dir in asset_dirs.items():\n",
        "        print(f\"Processing {frame_type} frame...\")\n",
        "        assets = load_assets(asset_dir)\n",
        "        base_image = assets.get('base_image')\n",
        "\n",
        "        if not base_image:\n",
        "            print(f\"Base image not found for {frame_type} frame.\")\n",
        "            continue\n",
        "\n",
        "        positions = {\n",
        "            'preview': {\n",
        "                'engagement_instruction': {'position': (50, 50), 'resize': (543, 84)},\n",
        "                'logo': {'position': (50, 150), 'resize': (300, 50)},\n",
        "                'product1': {'position': ((base_image.width - 400) // 2, (base_image.height - 400) // 2), 'resize': (400, 400)},\n",
        "                'engagement_animation': {'position': ((base_image.width - 50) // 2, (base_image.height - 50) // 2), 'resize': (50, 50)},\n",
        "                'product2': {'position': ((base_image.width - 400) // 2, 700), 'resize': (400, 200)},\n",
        "            },\n",
        "            'landing_frame': {\n",
        "                'tagline2': {'position': (50, 680), 'resize': (300, 50)},\n",
        "                'tagline1': {'position': (50, 50), 'resize': (543, 84)},\n",
        "                'product1': {'position': ((base_image.width - 400) // 2, (base_image.height - 400) // 2), 'resize': (400, 400)},\n",
        "                'engagement_animation': {'position': ((base_image.width - 50) // 2, (base_image.height - 50) // 2), 'resize': (50, 50)},\n",
        "                'product2': {'position': (50, 750), 'resize': (500, 100)},\n",
        "            },\n",
        "            'endframe': {\n",
        "                'tagline': {'position': (50, 50), 'resize': (543, 84)},\n",
        "                'logo': {'position': (50, 750), 'resize': (300, 50)},\n",
        "                'cta': {'position': (50, 800), 'resize': (150, 50)},\n",
        "                'product1': {'position': ((base_image.width - 200) // 2, (base_image.height - 200) // 2), 'resize': (200, 200)},\n",
        "                'ripple': {'position': ((base_image.width - 500) // 2, (base_image.height - 500) // 2), 'resize': (500, 500)},\n",
        "                'engagement_animation': {'position': ((base_image.width - 50) // 2, (base_image.height - 50) // 2), 'resize': (50, 50)}\n",
        "            }\n",
        "        }\n",
        "\n",
        "        frame_positions = positions.get(frame_type, {})\n",
        "        composed_image = compose_frame(base_image, assets, frame_positions)\n",
        "        save_frame(composed_image, output_dir, frame_type)\n",
        "\n",
        "asset_dirs = {\n",
        "    'preview': '/content/drive/MyDrive/wk12data/preview',\n",
        "    'landing_frame': '/content/drive/MyDrive/wk12data/landing_frame',\n",
        "    'endframe': '/content/drive/MyDrive/wk12data/endframe'\n",
        "}\n",
        "output_dir = '/content/drive/MyDrive/wk12data/output_frames'\n",
        "\n",
        "create_ad_frames(asset_dirs, output_dir)"
      ],
      "metadata": {
        "colab": {
          "base_uri": "https://localhost:8080/"
        },
        "id": "YyDuKSI2vUid",
        "outputId": "3df051df-d785-4c23-c652-7028791b1ebb"
      },
      "execution_count": null,
      "outputs": [
        {
          "output_type": "stream",
          "name": "stdout",
          "text": [
            "Processing preview frame...\n",
            "Processing landing_frame frame...\n",
            "Processing endframe frame...\n"
          ]
        }
      ]
    },
    {
      "cell_type": "markdown",
      "source": [
        "### Image Composition with Autogen"
      ],
      "metadata": {
        "id": "G-0vG4JJFoPX"
      }
    },
    {
      "cell_type": "code",
      "source": [
        "! pip install pyautogen\n",
        "! pip install openai\n",
        "! pip install Pillow\n",
        "! pip install datasets"
      ],
      "metadata": {
        "colab": {
          "base_uri": "https://localhost:8080/"
        },
        "id": "FBjapoeoFwoW",
        "outputId": "4a830e34-2a02-4d1c-ecbc-ba5f7dcd8b50"
      },
      "execution_count": 25,
      "outputs": [
        {
          "output_type": "stream",
          "name": "stdout",
          "text": [
            "Requirement already satisfied: pyautogen in /usr/local/lib/python3.10/dist-packages (0.2.32)\n",
            "Requirement already satisfied: diskcache in /usr/local/lib/python3.10/dist-packages (from pyautogen) (5.6.3)\n",
            "Requirement already satisfied: docker in /usr/local/lib/python3.10/dist-packages (from pyautogen) (7.1.0)\n",
            "Requirement already satisfied: flaml in /usr/local/lib/python3.10/dist-packages (from pyautogen) (2.1.2)\n",
            "Requirement already satisfied: numpy<2,>=1.17.0 in /usr/local/lib/python3.10/dist-packages (from pyautogen) (1.25.2)\n",
            "Requirement already satisfied: openai>=1.3 in /usr/local/lib/python3.10/dist-packages (from pyautogen) (1.35.13)\n",
            "Requirement already satisfied: packaging in /usr/local/lib/python3.10/dist-packages (from pyautogen) (24.1)\n",
            "Requirement already satisfied: pydantic!=2.6.0,<3,>=1.10 in /usr/local/lib/python3.10/dist-packages (from pyautogen) (2.8.2)\n",
            "Requirement already satisfied: python-dotenv in /usr/local/lib/python3.10/dist-packages (from pyautogen) (1.0.1)\n",
            "Requirement already satisfied: termcolor in /usr/local/lib/python3.10/dist-packages (from pyautogen) (2.4.0)\n",
            "Requirement already satisfied: tiktoken in /usr/local/lib/python3.10/dist-packages (from pyautogen) (0.7.0)\n",
            "Requirement already satisfied: anyio<5,>=3.5.0 in /usr/local/lib/python3.10/dist-packages (from openai>=1.3->pyautogen) (3.7.1)\n",
            "Requirement already satisfied: distro<2,>=1.7.0 in /usr/lib/python3/dist-packages (from openai>=1.3->pyautogen) (1.7.0)\n",
            "Requirement already satisfied: httpx<1,>=0.23.0 in /usr/local/lib/python3.10/dist-packages (from openai>=1.3->pyautogen) (0.27.0)\n",
            "Requirement already satisfied: sniffio in /usr/local/lib/python3.10/dist-packages (from openai>=1.3->pyautogen) (1.3.1)\n",
            "Requirement already satisfied: tqdm>4 in /usr/local/lib/python3.10/dist-packages (from openai>=1.3->pyautogen) (4.66.4)\n",
            "Requirement already satisfied: typing-extensions<5,>=4.7 in /usr/local/lib/python3.10/dist-packages (from openai>=1.3->pyautogen) (4.12.2)\n",
            "Requirement already satisfied: annotated-types>=0.4.0 in /usr/local/lib/python3.10/dist-packages (from pydantic!=2.6.0,<3,>=1.10->pyautogen) (0.7.0)\n",
            "Requirement already satisfied: pydantic-core==2.20.1 in /usr/local/lib/python3.10/dist-packages (from pydantic!=2.6.0,<3,>=1.10->pyautogen) (2.20.1)\n",
            "Requirement already satisfied: requests>=2.26.0 in /usr/local/lib/python3.10/dist-packages (from docker->pyautogen) (2.32.3)\n",
            "Requirement already satisfied: urllib3>=1.26.0 in /usr/local/lib/python3.10/dist-packages (from docker->pyautogen) (2.0.7)\n",
            "Requirement already satisfied: regex>=2022.1.18 in /usr/local/lib/python3.10/dist-packages (from tiktoken->pyautogen) (2024.5.15)\n",
            "Requirement already satisfied: idna>=2.8 in /usr/local/lib/python3.10/dist-packages (from anyio<5,>=3.5.0->openai>=1.3->pyautogen) (3.7)\n",
            "Requirement already satisfied: exceptiongroup in /usr/local/lib/python3.10/dist-packages (from anyio<5,>=3.5.0->openai>=1.3->pyautogen) (1.2.1)\n",
            "Requirement already satisfied: certifi in /usr/local/lib/python3.10/dist-packages (from httpx<1,>=0.23.0->openai>=1.3->pyautogen) (2024.7.4)\n",
            "Requirement already satisfied: httpcore==1.* in /usr/local/lib/python3.10/dist-packages (from httpx<1,>=0.23.0->openai>=1.3->pyautogen) (1.0.5)\n",
            "Requirement already satisfied: h11<0.15,>=0.13 in /usr/local/lib/python3.10/dist-packages (from httpcore==1.*->httpx<1,>=0.23.0->openai>=1.3->pyautogen) (0.14.0)\n",
            "Requirement already satisfied: charset-normalizer<4,>=2 in /usr/local/lib/python3.10/dist-packages (from requests>=2.26.0->docker->pyautogen) (3.3.2)\n",
            "Requirement already satisfied: openai in /usr/local/lib/python3.10/dist-packages (1.35.13)\n",
            "Requirement already satisfied: anyio<5,>=3.5.0 in /usr/local/lib/python3.10/dist-packages (from openai) (3.7.1)\n",
            "Requirement already satisfied: distro<2,>=1.7.0 in /usr/lib/python3/dist-packages (from openai) (1.7.0)\n",
            "Requirement already satisfied: httpx<1,>=0.23.0 in /usr/local/lib/python3.10/dist-packages (from openai) (0.27.0)\n",
            "Requirement already satisfied: pydantic<3,>=1.9.0 in /usr/local/lib/python3.10/dist-packages (from openai) (2.8.2)\n",
            "Requirement already satisfied: sniffio in /usr/local/lib/python3.10/dist-packages (from openai) (1.3.1)\n",
            "Requirement already satisfied: tqdm>4 in /usr/local/lib/python3.10/dist-packages (from openai) (4.66.4)\n",
            "Requirement already satisfied: typing-extensions<5,>=4.7 in /usr/local/lib/python3.10/dist-packages (from openai) (4.12.2)\n",
            "Requirement already satisfied: idna>=2.8 in /usr/local/lib/python3.10/dist-packages (from anyio<5,>=3.5.0->openai) (3.7)\n",
            "Requirement already satisfied: exceptiongroup in /usr/local/lib/python3.10/dist-packages (from anyio<5,>=3.5.0->openai) (1.2.1)\n",
            "Requirement already satisfied: certifi in /usr/local/lib/python3.10/dist-packages (from httpx<1,>=0.23.0->openai) (2024.7.4)\n",
            "Requirement already satisfied: httpcore==1.* in /usr/local/lib/python3.10/dist-packages (from httpx<1,>=0.23.0->openai) (1.0.5)\n",
            "Requirement already satisfied: h11<0.15,>=0.13 in /usr/local/lib/python3.10/dist-packages (from httpcore==1.*->httpx<1,>=0.23.0->openai) (0.14.0)\n",
            "Requirement already satisfied: annotated-types>=0.4.0 in /usr/local/lib/python3.10/dist-packages (from pydantic<3,>=1.9.0->openai) (0.7.0)\n",
            "Requirement already satisfied: pydantic-core==2.20.1 in /usr/local/lib/python3.10/dist-packages (from pydantic<3,>=1.9.0->openai) (2.20.1)\n",
            "Requirement already satisfied: Pillow in /usr/local/lib/python3.10/dist-packages (9.4.0)\n",
            "Requirement already satisfied: datasets in /usr/local/lib/python3.10/dist-packages (2.20.0)\n",
            "Requirement already satisfied: filelock in /usr/local/lib/python3.10/dist-packages (from datasets) (3.15.4)\n",
            "Requirement already satisfied: numpy>=1.17 in /usr/local/lib/python3.10/dist-packages (from datasets) (1.25.2)\n",
            "Requirement already satisfied: pyarrow>=15.0.0 in /usr/local/lib/python3.10/dist-packages (from datasets) (16.1.0)\n",
            "Requirement already satisfied: pyarrow-hotfix in /usr/local/lib/python3.10/dist-packages (from datasets) (0.6)\n",
            "Requirement already satisfied: dill<0.3.9,>=0.3.0 in /usr/local/lib/python3.10/dist-packages (from datasets) (0.3.8)\n",
            "Requirement already satisfied: pandas in /usr/local/lib/python3.10/dist-packages (from datasets) (2.0.3)\n",
            "Requirement already satisfied: requests>=2.32.2 in /usr/local/lib/python3.10/dist-packages (from datasets) (2.32.3)\n",
            "Requirement already satisfied: tqdm>=4.66.3 in /usr/local/lib/python3.10/dist-packages (from datasets) (4.66.4)\n",
            "Requirement already satisfied: xxhash in /usr/local/lib/python3.10/dist-packages (from datasets) (3.4.1)\n",
            "Requirement already satisfied: multiprocess in /usr/local/lib/python3.10/dist-packages (from datasets) (0.70.16)\n",
            "Requirement already satisfied: fsspec[http]<=2024.5.0,>=2023.1.0 in /usr/local/lib/python3.10/dist-packages (from datasets) (2023.6.0)\n",
            "Requirement already satisfied: aiohttp in /usr/local/lib/python3.10/dist-packages (from datasets) (3.9.5)\n",
            "Requirement already satisfied: huggingface-hub>=0.21.2 in /usr/local/lib/python3.10/dist-packages (from datasets) (0.23.4)\n",
            "Requirement already satisfied: packaging in /usr/local/lib/python3.10/dist-packages (from datasets) (24.1)\n",
            "Requirement already satisfied: pyyaml>=5.1 in /usr/local/lib/python3.10/dist-packages (from datasets) (6.0.1)\n",
            "Requirement already satisfied: aiosignal>=1.1.2 in /usr/local/lib/python3.10/dist-packages (from aiohttp->datasets) (1.3.1)\n",
            "Requirement already satisfied: attrs>=17.3.0 in /usr/local/lib/python3.10/dist-packages (from aiohttp->datasets) (23.2.0)\n",
            "Requirement already satisfied: frozenlist>=1.1.1 in /usr/local/lib/python3.10/dist-packages (from aiohttp->datasets) (1.4.1)\n",
            "Requirement already satisfied: multidict<7.0,>=4.5 in /usr/local/lib/python3.10/dist-packages (from aiohttp->datasets) (6.0.5)\n",
            "Requirement already satisfied: yarl<2.0,>=1.0 in /usr/local/lib/python3.10/dist-packages (from aiohttp->datasets) (1.9.4)\n",
            "Requirement already satisfied: async-timeout<5.0,>=4.0 in /usr/local/lib/python3.10/dist-packages (from aiohttp->datasets) (4.0.3)\n",
            "Requirement already satisfied: typing-extensions>=3.7.4.3 in /usr/local/lib/python3.10/dist-packages (from huggingface-hub>=0.21.2->datasets) (4.12.2)\n",
            "Requirement already satisfied: charset-normalizer<4,>=2 in /usr/local/lib/python3.10/dist-packages (from requests>=2.32.2->datasets) (3.3.2)\n",
            "Requirement already satisfied: idna<4,>=2.5 in /usr/local/lib/python3.10/dist-packages (from requests>=2.32.2->datasets) (3.7)\n",
            "Requirement already satisfied: urllib3<3,>=1.21.1 in /usr/local/lib/python3.10/dist-packages (from requests>=2.32.2->datasets) (2.0.7)\n",
            "Requirement already satisfied: certifi>=2017.4.17 in /usr/local/lib/python3.10/dist-packages (from requests>=2.32.2->datasets) (2024.7.4)\n",
            "Requirement already satisfied: python-dateutil>=2.8.2 in /usr/local/lib/python3.10/dist-packages (from pandas->datasets) (2.8.2)\n",
            "Requirement already satisfied: pytz>=2020.1 in /usr/local/lib/python3.10/dist-packages (from pandas->datasets) (2023.4)\n",
            "Requirement already satisfied: tzdata>=2022.1 in /usr/local/lib/python3.10/dist-packages (from pandas->datasets) (2024.1)\n",
            "Requirement already satisfied: six>=1.5 in /usr/local/lib/python3.10/dist-packages (from python-dateutil>=2.8.2->pandas->datasets) (1.16.0)\n"
          ]
        }
      ]
    },
    {
      "cell_type": "code",
      "source": [
        "import os\n",
        "from autogen import AssistantAgent, UserProxyAgent\n",
        "from PIL import Image\n",
        "from openai import OpenAI"
      ],
      "metadata": {
        "id": "km84IXY0GEtz"
      },
      "execution_count": 27,
      "outputs": []
    },
    {
      "cell_type": "code",
      "source": [
        "from google.colab import userdata"
      ],
      "metadata": {
        "id": "vTihtrTNHAZL"
      },
      "execution_count": 4,
      "outputs": []
    },
    {
      "cell_type": "code",
      "source": [
        "config_list = [\n",
        "    {\n",
        "        \"model\": \"gpt-4\",\n",
        "        \"api_key\": userdata.get('OPENAI_API_KEY'),\n",
        "    }\n",
        "]"
      ],
      "metadata": {
        "id": "7KB33r2pK29j"
      },
      "execution_count": 5,
      "outputs": []
    },
    {
      "cell_type": "code",
      "source": [
        "def load_assets(asset_dir):\n",
        "    assets = {}\n",
        "    for file_name in os.listdir(asset_dir):\n",
        "        if file_name.endswith(('png', 'jpg', 'jpeg')):\n",
        "            key = os.path.splitext(file_name)[0]\n",
        "            assets[key] = Image.open(os.path.join(asset_dir, file_name)).convert(\"RGBA\")\n",
        "    return assets\n",
        "\n",
        "def compose_frame(base_image, assets, positions):\n",
        "    composite_image = base_image.copy()\n",
        "    for key, pos in positions.items():\n",
        "        if key in assets:\n",
        "            asset = assets[key]\n",
        "            if 'resize' in pos:\n",
        "                asset = asset.resize(pos['resize'])\n",
        "            composite_image.paste(asset, pos['position'], asset)\n",
        "    return composite_image\n",
        "\n",
        "def save_frame(image, output_dir, frame_name):\n",
        "    if not os.path.exists(output_dir):\n",
        "        os.makedirs(output_dir)\n",
        "    image.save(os.path.join(output_dir, f\"{frame_name}.png\"))\n",
        "\n",
        "def create_ad_frames(asset_dirs, output_dir):\n",
        "    for frame_type, asset_dir in asset_dirs.items():\n",
        "        print(f\"Processing {frame_type} ...\")\n",
        "        assets = load_assets(asset_dir)\n",
        "        base_image = assets.get('base_image')\n",
        "\n",
        "        if not base_image:\n",
        "            print(f\"Base image not found for {frame_type} frame.\")\n",
        "            continue\n",
        "\n",
        "        positions = {\n",
        "            'preview': {\n",
        "                'engagement_instruction': {'position': (50, 50), 'resize': (543, 84)},\n",
        "                'logo': {'position': (50, 150), 'resize': (300, 50)},\n",
        "                'product1': {'position': ((base_image.width - 400) // 2, (base_image.height - 400) // 2), 'resize': (400, 400)},\n",
        "                'engagement_animation': {'position': ((base_image.width - 50) // 2, (base_image.height - 50) // 2), 'resize': (50, 50)},\n",
        "                'product2': {'position': ((base_image.width - 400) // 2, 700), 'resize': (400, 200)},\n",
        "            },\n",
        "            'landing_frame': {\n",
        "                'tagline2': {'position': (50, 680), 'resize': (300, 50)},\n",
        "                'tagline1': {'position': (50, 50), 'resize': (543, 84)},\n",
        "                'product1': {'position': ((base_image.width - 400) // 2, (base_image.height - 400) // 2), 'resize': (400, 400)},\n",
        "                'engagement_animation': {'position': ((base_image.width - 50) // 2, (base_image.height - 50) // 2), 'resize': (50, 50)},\n",
        "                'product2': {'position': (50, 750), 'resize': (500, 100)},\n",
        "            },\n",
        "            'endframe': {\n",
        "                'tagline': {'position': (50, 50), 'resize': (543, 84)},\n",
        "                'logo': {'position': (50, 750), 'resize': (300, 50)},\n",
        "                'cta': {'position': (50, 800), 'resize': (150, 50)},\n",
        "                'product1': {'position': ((base_image.width - 200) // 2, (base_image.height - 200) // 2), 'resize': (200, 200)},\n",
        "                'ripple': {'position': ((base_image.width - 500) // 2, (base_image.height - 500) // 2), 'resize': (500, 500)},\n",
        "                'engagement_animation': {'position': ((base_image.width - 50) // 2, (base_image.height - 50) // 2), 'resize': (50, 50)}\n",
        "            }\n",
        "        }\n",
        "\n",
        "        frame_positions = positions.get(frame_type, {})\n",
        "        composed_image = compose_frame(base_image, assets, frame_positions)\n",
        "        save_frame(composed_image, output_dir, frame_type)\n",
        "\n",
        "asset_dirs = {\n",
        "    \"preview\": \"/content/drive/MyDrive/wk12data/preview\",\n",
        "    \"landing_frame\": \"/content/drive/MyDrive/wk12data/landing_frame\",\n",
        "    \"endframe\": \"/content/drive/MyDrive/wk12data/endframe\"\n",
        "}\n",
        "output_dir = \"/content/drive/MyDrive/wk12data/output\"\n",
        "\n",
        "llm_config = {\n",
        "    \"functions\": [\n",
        "        {\n",
        "            \"name\": \"create_ad_frames\",\n",
        "            \"description\": \"Compose an ad frame using the given assets\",\n",
        "            \"parameters\": {\n",
        "                \"type\": \"object\",\n",
        "                \"properties\": {\n",
        "                    \"asset_dirs\": {\n",
        "                        \"type\": \"object\",\n",
        "                        \"description\": \"Dictionary of asset directories for different frame types\",\n",
        "                    },\n",
        "                    \"output_dir\": {\n",
        "                        \"type\": \"string\",\n",
        "                        \"description\": \"Directory to save the composed frames\",\n",
        "                    },\n",
        "                },\n",
        "                \"required\": [\"asset_dirs\", \"output_dir\"],\n",
        "            },\n",
        "        },\n",
        "    ],\n",
        "    \"config_list\": config_list,\n",
        "    \"timeout\": 120,\n",
        "}\n",
        "\n",
        "chatbot = AssistantAgent(\n",
        "    name=\"chatbot\",\n",
        "    system_message=\"For coding tasks, only use the functions you have been provided with. Reply TERMINATE when the task is done.\",\n",
        "    llm_config=llm_config,\n",
        ")\n",
        "\n",
        "user_proxy = UserProxyAgent(\n",
        "    name=\"user_proxy\",\n",
        "    #is_termination_msg=lambda x: x and x.get(\"content\", \"\").rstrip().endswith(\"TERMINATE\"),\n",
        "    human_input_mode=\"NEVER\",\n",
        "    max_consecutive_auto_reply=10,\n",
        "    code_execution_config={\n",
        "        \"use_docker\": False,\n",
        "    },\n",
        ")\n",
        "\n",
        "user_proxy.register_function(\n",
        "    function_map={\n",
        "        \"create_ad_frames\": create_ad_frames,\n",
        "    }\n",
        ")\n",
        "\n",
        "user_proxy.initiate_chat(\n",
        "    chatbot,\n",
        "    message=f\"Create ad frames using the provided asset directories {asset_dirs} and save the output to {output_dir}. TERMINATE\",\n",
        ")\n"
      ],
      "metadata": {
        "colab": {
          "base_uri": "https://localhost:8080/"
        },
        "id": "UtffkzQgFjsS",
        "outputId": "c6cd9bc1-c778-46e4-f0bc-d20f979a80a3"
      },
      "execution_count": null,
      "outputs": [
        {
          "output_type": "stream",
          "name": "stdout",
          "text": [
            "user_proxy (to chatbot):\n",
            "\n",
            "Create ad frames using the provided asset directories {'preview': '/content/drive/MyDrive/wk12data/preview', 'landing_frame': '/content/drive/MyDrive/wk12data/landing_frame', 'endframe': '/content/drive/MyDrive/wk12data/endframe'} and save the output to /content/drive/MyDrive/wk12data/output. TERMINATE\n",
            "\n",
            "--------------------------------------------------------------------------------\n",
            "chatbot (to user_proxy):\n",
            "\n",
            "***** Suggested function call: create_ad_frames *****\n",
            "Arguments: \n",
            "{\n",
            "\"output_dir\": \"/content/drive/MyDrive/wk12data/output\"\n",
            "}\n",
            "*****************************************************\n",
            "\n",
            "--------------------------------------------------------------------------------\n",
            "\n",
            ">>>>>>>> EXECUTING FUNCTION create_ad_frames...\n",
            "user_proxy (to chatbot):\n",
            "\n",
            "***** Response from calling function (create_ad_frames) *****\n",
            "Error: create_ad_frames() missing 1 required positional argument: 'asset_dirs'\n",
            "*************************************************************\n",
            "\n",
            "--------------------------------------------------------------------------------\n",
            "chatbot (to user_proxy):\n",
            "\n",
            "It seems like I made a mistake. I missed out the required argument 'asset_dirs'. Let me correct that.\n",
            "***** Suggested function call: create_ad_frames *****\n",
            "Arguments: \n",
            "{\n",
            "\"output_dir\": \"/content/drive/MyDrive/wk12data/output\",\n",
            "\"asset_dirs\": {'preview': '/content/drive/MyDrive/wk12data/preview', 'landing_frame': '/content/drive/MyDrive/wk12data/landing_frame', 'endframe': '/content/drive/MyDrive/wk12data/endframe'}\n",
            "}\n",
            "*****************************************************\n",
            "\n",
            "--------------------------------------------------------------------------------\n",
            "user_proxy (to chatbot):\n",
            "\n",
            "***** Response from calling function (create_ad_frames) *****\n",
            "Error: Expecting property name enclosed in double quotes: line 1 column 72 (char 71)\n",
            " You argument should follow json format.\n",
            "*************************************************************\n",
            "\n",
            "--------------------------------------------------------------------------------\n",
            "chatbot (to user_proxy):\n",
            "\n",
            "I apologize for the mistake, let's correct the JSON format issue. It seems the keys in the dictionary need to be enclosed in double quotes.\n",
            "***** Suggested function call: create_ad_frames *****\n",
            "Arguments: \n",
            "{\n",
            "\"output_dir\": \"/content/drive/MyDrive/wk12data/output\",\n",
            "\"asset_dirs\": {\"preview\": \"/content/drive/MyDrive/wk12data/preview\", \"landing_frame\": \"/content/drive/MyDrive/wk12data/landing_frame\", \"endframe\": \"/content/drive/MyDrive/wk12data/endframe\"}\n",
            "}\n",
            "*****************************************************\n",
            "\n",
            "--------------------------------------------------------------------------------\n",
            "\n",
            ">>>>>>>> EXECUTING FUNCTION create_ad_frames...\n",
            "Processing preview ...\n",
            "Processing landing_frame ...\n",
            "Processing endframe ...\n",
            "user_proxy (to chatbot):\n",
            "\n",
            "***** Response from calling function (create_ad_frames) *****\n",
            "None\n",
            "*************************************************************\n",
            "\n",
            "--------------------------------------------------------------------------------\n",
            "chatbot (to user_proxy):\n",
            "\n",
            "The task has been completed successfully. Ad frames were created using the provided asset directories and the output has been saved to the specified location. Please feel free to request any additional tasks or confirm completion. TERMINATE\n",
            "\n",
            "--------------------------------------------------------------------------------\n",
            "user_proxy (to chatbot):\n",
            "\n",
            "\n",
            "\n",
            "--------------------------------------------------------------------------------\n",
            "chatbot (to user_proxy):\n",
            "\n",
            "TERMINATE\n",
            "\n",
            "--------------------------------------------------------------------------------\n"
          ]
        },
        {
          "output_type": "execute_result",
          "data": {
            "text/plain": [
              "ChatResult(chat_id=None, chat_history=[{'content': \"Create ad frames using the provided asset directories {'preview': '/content/drive/MyDrive/wk12data/preview', 'landing_frame': '/content/drive/MyDrive/wk12data/landing_frame', 'endframe': '/content/drive/MyDrive/wk12data/endframe'} and save the output to /content/drive/MyDrive/wk12data/output. TERMINATE\", 'role': 'assistant'}, {'function_call': {'arguments': '{\\n\"output_dir\": \"/content/drive/MyDrive/wk12data/output\"\\n}', 'name': 'create_ad_frames'}, 'content': None, 'role': 'assistant'}, {'content': \"Error: create_ad_frames() missing 1 required positional argument: 'asset_dirs'\", 'name': 'create_ad_frames', 'role': 'function'}, {'content': \"It seems like I made a mistake. I missed out the required argument 'asset_dirs'. Let me correct that.\", 'function_call': {'arguments': '{\\n\"output_dir\": \"/content/drive/MyDrive/wk12data/output\",\\n\"asset_dirs\": {\\'preview\\': \\'/content/drive/MyDrive/wk12data/preview\\', \\'landing_frame\\': \\'/content/drive/MyDrive/wk12data/landing_frame\\', \\'endframe\\': \\'/content/drive/MyDrive/wk12data/endframe\\'}\\n}', 'name': 'create_ad_frames'}, 'role': 'assistant'}, {'content': 'Error: Expecting property name enclosed in double quotes: line 1 column 72 (char 71)\\n You argument should follow json format.', 'name': 'create_ad_frames', 'role': 'function'}, {'content': \"I apologize for the mistake, let's correct the JSON format issue. It seems the keys in the dictionary need to be enclosed in double quotes.\", 'function_call': {'arguments': '{\\n\"output_dir\": \"/content/drive/MyDrive/wk12data/output\",\\n\"asset_dirs\": {\"preview\": \"/content/drive/MyDrive/wk12data/preview\", \"landing_frame\": \"/content/drive/MyDrive/wk12data/landing_frame\", \"endframe\": \"/content/drive/MyDrive/wk12data/endframe\"}\\n}', 'name': 'create_ad_frames'}, 'role': 'assistant'}, {'content': 'None', 'name': 'create_ad_frames', 'role': 'function'}, {'content': 'The task has been completed successfully. Ad frames were created using the provided asset directories and the output has been saved to the specified location. Please feel free to request any additional tasks or confirm completion. TERMINATE', 'role': 'user'}, {'content': '', 'role': 'assistant'}, {'content': 'TERMINATE', 'role': 'user'}], summary='', cost={'usage_including_cached_inference': {'total_cost': 0.07098, 'gpt-4-0613': {'cost': 0.07098, 'prompt_tokens': 1778, 'completion_tokens': 294, 'total_tokens': 2072}}, 'usage_excluding_cached_inference': {'total_cost': 0.0645, 'gpt-4-0613': {'cost': 0.0645, 'prompt_tokens': 1614, 'completion_tokens': 268, 'total_tokens': 1882}}}, human_input=[])"
            ]
          },
          "metadata": {},
          "execution_count": 43
        }
      ]
    },
    {
      "cell_type": "markdown",
      "source": [
        "### GPT-4o Vision for image review"
      ],
      "metadata": {
        "id": "sAO4fzILh-sj"
      }
    },
    {
      "cell_type": "code",
      "source": [
        "import base64\n",
        "import requests\n",
        "\n",
        "# OpenAI API Key\n",
        "api_key = userdata.get('OPENAI_API_KEY')\n",
        "\n",
        "# Function to encode the image\n",
        "def encode_image(image_path):\n",
        "  with open(image_path, \"rb\") as image_file:\n",
        "    return base64.b64encode(image_file.read()).decode('utf-8')\n",
        "\n",
        "image_path = \"/content/drive/MyDrive/wk12data/output/endframe.png\"\n",
        "\n",
        "# Getting the base64 string\n",
        "base64_image = encode_image(image_path)\n",
        "\n",
        "headers = {\n",
        "  \"Content-Type\": \"application/json\",\n",
        "  \"Authorization\": f\"Bearer {api_key}\"\n",
        "}\n",
        "\n",
        "payload = {\n",
        "  \"model\": \"gpt-4o\",\n",
        "  \"messages\": [\n",
        "    {\n",
        "      \"role\": \"user\",\n",
        "      \"content\": [\n",
        "        {\n",
        "          \"type\": \"text\",\n",
        "          \"text\": \"Please provide a description of the image and then rate, on a scale of 1 to 10, how closely the image satisfies design principles of advertisement\"\n",
        "        },\n",
        "        {\n",
        "          \"type\": \"image_url\",\n",
        "          \"image_url\": {\n",
        "            \"url\": f\"data:image/jpeg;base64,{base64_image}\"\n",
        "          }\n",
        "        }\n",
        "      ]\n",
        "    }\n",
        "  ],\n",
        "  \"max_tokens\": 300\n",
        "}\n",
        "\n",
        "response = requests.post(\"https://api.openai.com/v1/chat/completions\", headers=headers, json=payload)\n",
        "\n",
        "print(response.json())"
      ],
      "metadata": {
        "colab": {
          "base_uri": "https://localhost:8080/"
        },
        "id": "6ICD_8QSV1DV",
        "outputId": "c864c966-61e9-4a16-a4dd-2ee5e4d11b4b"
      },
      "execution_count": 31,
      "outputs": [
        {
          "output_type": "stream",
          "name": "stdout",
          "text": [
            "{'id': 'chatcmpl-9lG3MaJ1TkIAXkhxSt0TvZuHIZtCI', 'object': 'chat.completion', 'created': 1721050152, 'model': 'gpt-4o-2024-05-13', 'choices': [{'index': 0, 'message': {'role': 'assistant', 'content': '### Description\\n\\nThe advertisement features a gradient blue background transitioning from light blue to dark blue. At the top, white text reads, \"Maximize return potential Tap into sound opportunities.\" Below this, there is an icon resembling a mobile phone\\'s status bar displaying the time (18:01), along with battery, Wi-Fi, and signal icons.\\n\\nCentral to the design is a circular graphic with concentric circles emanating from the center. Inside the circle, a blue background features a red triangle play button labeled \"ASIA,\" surrounded by illustrated high-rise buildings. This imagery likely represents the Asian financial market. Below the circular graphic, yellow text reads, \"Schroders Asian Asset Income Strategy.\" Finally, a blue \"Learn More\" button, accented with a graphic symbol, appears near the bottom.\\n\\n### Rating on Design Principles of Advertisement\\n\\n1. **Clarity of Message (8/10):** The message is clear and concise. The primary message about maximizing returns and sound opportunities is prominently displayed at the top, making it immediately noticeable.\\n\\n2. **Visual Hierarchy (7/10):** The use of size, color, and positioning effectively directs the viewer\\'s attention from the top message to the central graphic, and then to the call-to-action at the bottom. However, the graphic\\'s details might distract slightly from the main message.\\n\\n3. **Aesthetic Appeal (8/10):** The design uses harmonious colors and modern graphics, which are visually appealing. The gradient background and'}, 'logprobs': None, 'finish_reason': 'length'}], 'usage': {'prompt_tokens': 802, 'completion_tokens': 300, 'total_tokens': 1102}, 'system_fingerprint': 'fp_298125635f'}\n"
          ]
        }
      ]
    },
    {
      "cell_type": "markdown",
      "source": [
        "{'id': 'chatcmpl-9lG3MaJ1TkIAXkhxSt0TvZuHIZtCI', 'object': 'chat.completion', 'created': 1721050152, 'model': 'gpt-4o-2024-05-13', 'choices': [{'index': 0, 'message': {'role': 'assistant', 'content': '### Description\\n\\nThe advertisement features a gradient blue background transitioning from light blue to dark blue. At the top, white text reads, \"Maximize return potential Tap into sound opportunities.\" Below this, there is an icon resembling a mobile phone\\'s status bar displaying the time (18:01), along with battery, Wi-Fi, and signal icons.\\n\\nCentral to the design is a circular graphic with concentric circles emanating from the center. Inside the circle, a blue background features a red triangle play button labeled \"ASIA,\" surrounded by illustrated high-rise buildings. This imagery likely represents the Asian financial market. Below the circular graphic, yellow text reads, \"Schroders Asian Asset Income Strategy.\" Finally, a blue \"Learn More\" button, accented with a graphic symbol, appears near the bottom.\\n\\n### Rating on Design Principles of Advertisement\\n\\n1. **Clarity of Message (8/10):** The message is clear and concise. The primary message about maximizing returns and sound opportunities is prominently displayed at the top, making it immediately noticeable.\\n\\n2. **Visual Hierarchy (7/10):** The use of size, color, and positioning effectively directs the viewer\\'s attention from the top message to the central graphic, and then to the call-to-action at the bottom. However, the graphic\\'s details might distract slightly from the main message.\\n\\n3. **Aesthetic Appeal (8/10):** The design uses harmonious colors and modern graphics, which are visually appealing. The gradient background and'}, 'logprobs': None, 'finish_reason': 'length'}], 'usage': {'prompt_tokens': 802, 'completion_tokens': 300, 'total_tokens': 1102}, 'system_fingerprint': 'fp_298125635f'}\n"
      ],
      "metadata": {
        "id": "_f3VaZAglctZ"
      }
    }
  ]
}